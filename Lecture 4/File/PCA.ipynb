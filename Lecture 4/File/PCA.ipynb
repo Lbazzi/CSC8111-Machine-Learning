{
 "cells": [
  {
   "cell_type": "markdown",
   "metadata": {
    "id": "va9hQrakm8Ml"
   },
   "source": [
    "Here we're using PCA to remove covariance in our data.\n",
    "\n",
    "Generate some random data - with some covariance"
   ]
  },
  {
   "cell_type": "code",
   "execution_count": 1,
   "metadata": {
    "colab": {
     "base_uri": "https://localhost:8080/"
    },
    "id": "2p_OIMIeYEhS",
    "outputId": "1bb3f177-649e-47ed-c89e-72f9b8760ecf"
   },
   "outputs": [
    {
     "name": "stdout",
     "output_type": "stream",
     "text": [
      "[ 4.13860769 10.41419801]\n"
     ]
    }
   ],
   "source": [
    "import numpy as np\n",
    "from sklearn import datasets\n",
    "\n",
    "\n",
    "def _generating_data():\n",
    "    random_state = 180\n",
    "    X, _ = datasets.make_blobs(n_samples=50, n_features = 2, \n",
    "                               centers=3, cluster_std=[3, 2, 3], \n",
    "                               random_state=random_state)\n",
    "    transformation = [[1.6, -0.6], [-0.8, 0.8]]\n",
    "    X_aniso = np.dot(X, transformation)\n",
    "    X_aniso[:,0] = X_aniso[:,0]-7\n",
    "    X_aniso[:,1] = X_aniso[:,1]+17\n",
    "    return X_aniso\n",
    "\n",
    "\n",
    "X = _generating_data()\n",
    "X_mean = np.mean(X, axis=0)\n",
    "print(X_mean)"
   ]
  },
  {
   "cell_type": "markdown",
   "metadata": {
    "id": "4lp3gaWenMSx"
   },
   "source": [
    "Let's look at the data. There seems to be some negative covariance in the two dimensions."
   ]
  },
  {
   "cell_type": "code",
   "execution_count": 2,
   "metadata": {
    "colab": {
     "base_uri": "https://localhost:8080/",
     "height": 282
    },
    "id": "_yPV_kPhYaXB",
    "outputId": "1e9cc5ce-f55f-4c11-a18e-2c7e10b365e9"
   },
   "outputs": [
    {
     "data": {
      "text/plain": [
       "<Figure size 640x480 with 1 Axes>"
      ]
     },
     "metadata": {},
     "output_type": "display_data"
    }
   ],
   "source": [
    "import matplotlib.pyplot as plt\n",
    "\n",
    "x,y = X.T\n",
    "plt.scatter(x, y)\n",
    "plt.show()"
   ]
  },
  {
   "cell_type": "markdown",
   "metadata": {
    "id": "x_oiTT6MnV6L"
   },
   "source": [
    "Re-centre the data so the mean is at the origin and compute the covariance matrix"
   ]
  },
  {
   "cell_type": "code",
   "execution_count": 3,
   "metadata": {
    "id": "wFo5J2--YzvP"
   },
   "outputs": [],
   "source": [
    "X_centred = X - X_mean\n",
    "X_cov = np.matmul(X_centred.T,X_centred)/(np.shape(X)[0]-1) # the demominator could be N or (N-1)\n",
    "#print('conv can also be calculated using numpy function')\n",
    "#X_cov = np.cov(X_centred.T)"
   ]
  },
  {
   "cell_type": "markdown",
   "metadata": {
    "id": "qxYQtzfGneAB"
   },
   "source": [
    "Looking at the covariance matrix there is a negative covariance between the two dimensions"
   ]
  },
  {
   "cell_type": "code",
   "execution_count": 4,
   "metadata": {
    "colab": {
     "base_uri": "https://localhost:8080/"
    },
    "id": "CkqMm4Gfa4OZ",
    "outputId": "e2958715-d6fb-4c02-cde8-29e78d5971cb"
   },
   "outputs": [
    {
     "name": "stdout",
     "output_type": "stream",
     "text": [
      "[[ 30.33637282 -10.92302986]\n",
      " [-10.92302986   8.66132702]]\n"
     ]
    }
   ],
   "source": [
    "print(X_cov)"
   ]
  },
  {
   "cell_type": "markdown",
   "metadata": {
    "id": "qKkBp3Hlnm1h"
   },
   "source": [
    "Compute the eigenvalues and eigenvectors"
   ]
  },
  {
   "cell_type": "code",
   "execution_count": 5,
   "metadata": {
    "id": "qKEbJ70dZfUC"
   },
   "outputs": [],
   "source": [
    "eig_vals, eig_vecs = np.linalg.eig(X_cov)"
   ]
  },
  {
   "cell_type": "markdown",
   "metadata": {
    "id": "Ow5J_HRAns_e"
   },
   "source": [
    "and check to see what they contain"
   ]
  },
  {
   "cell_type": "code",
   "execution_count": 6,
   "metadata": {
    "colab": {
     "base_uri": "https://localhost:8080/"
    },
    "id": "_V7OSdtEZjjD",
    "outputId": "979fed8c-702b-435b-e1ed-bedff51611cc"
   },
   "outputs": [
    {
     "name": "stdout",
     "output_type": "stream",
     "text": [
      "eig_vals:\n",
      "[34.88600313  4.11169671]\n",
      "eig_vectors:\n",
      "[[ 0.92312589  0.38449785]\n",
      " [-0.38449785  0.92312589]]\n"
     ]
    }
   ],
   "source": [
    "print('eig_vals:')\n",
    "print(eig_vals)\n",
    "print('eig_vectors:')\n",
    "print(eig_vecs)"
   ]
  },
  {
   "cell_type": "markdown",
   "metadata": {
    "id": "dxdoe1Kin2eD"
   },
   "source": [
    "Now let's map the points into the PCA space"
   ]
  },
  {
   "cell_type": "code",
   "execution_count": 7,
   "metadata": {
    "id": "-dFHPDRLZrZy"
   },
   "outputs": [],
   "source": [
    "X_pca = np.matmul(X_centred, eig_vecs)"
   ]
  },
  {
   "cell_type": "markdown",
   "metadata": {
    "id": "beR49-Rin8Cj"
   },
   "source": [
    "We can visualise the original and new points. Note - it doesn't make sense to plot these in the same figure as they have different axis. But doing it here to give you an idea of what has happened."
   ]
  },
  {
   "cell_type": "code",
   "execution_count": 8,
   "metadata": {
    "colab": {
     "base_uri": "https://localhost:8080/",
     "height": 265
    },
    "id": "wNktRslhZxL_",
    "outputId": "dc1211ff-1b80-439c-a20b-c8beb579aaae"
   },
   "outputs": [
    {
     "data": {
      "image/png": "[encoded data removed]",
      "text/plain": [
       "<Figure size 432x288 with 1 Axes>"
      ]
     },
     "metadata": {},
     "output_type": "display_data"
    }
   ],
   "source": [
    "plt.plot(x,y, 'o')\n",
    "x_p, y_p = X_pca.T\n",
    "plt.plot(x_p, y_p, '^')\n",
    "\n",
    "plt.show()"
   ]
  }
 ],
 "metadata": {
  "colab": {
   "provenance": []
  },
  "kernelspec": {
   "display_name": "Python 3",
   "language": "python",
   "name": "python3"
  },
  "language_info": {
   "codemirror_mode": {
    "name": "ipython",
    "version": 3
   },
   "file_extension": ".py",
   "mimetype": "text/x-python",
   "name": "python",
   "nbconvert_exporter": "python",
   "pygments_lexer": "ipython3",
   "version": "3.6.5"
  }
 },
 "nbformat": 4,
 "nbformat_minor": 1
}

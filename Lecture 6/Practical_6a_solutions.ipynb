{
 "cells": [
  {
   "cell_type": "markdown",
   "metadata": {
    "id": "HX-XYYbcYa0r"
   },
   "source": [
    "# Practical 6 Classification using SVM\n",
    "\n",
    "So far we have just been using the datasets provided with sklearn. However, we normally need to use datasets from other locations. So the first part of this practical will give an introduction on how to read in CVS files from a file or URL.\n",
    "\n",
    "Once you've done this you will need to process the data so that missing values are removed or replaced with sensible values. \n",
    "\n",
    "Then finally we can get down to the machine learning. The way you use SVM is very similar to what you did with Logistic Regression - so we don't need to give you all the details for that part. You can just look back at that.\n",
    "\n",
    "The data: We're going to use the titanic dataset. This dataset contains various features such as the sex of a passenger and the class they were travelling in. The idea is to see if we can predict if the passanger is likely to have survived."
   ]
  },
  {
   "cell_type": "markdown",
   "metadata": {
    "id": "cuVD44ytZh5t"
   },
   "source": [
    "## Reading in the data\n",
    "\n",
    "Pandas nicely provides you with a method to read in data from a CSV file. The file can either be on your local hard disk or at a URL.\n",
    "\n",
    "Once you've read in the data the first thing to do is to have a quick look at it - print it out."
   ]
  },
  {
   "cell_type": "code",
   "execution_count": 1,
   "metadata": {
    "colab": {
     "base_uri": "https://localhost:8080/"
    },
    "id": "BbBZUlzy0gNa",
    "outputId": "2e94e06b-95bd-46e5-a97b-e76f53931bff"
   },
   "outputs": [
    {
     "name": "stdout",
     "output_type": "stream",
     "text": [
      "      pclass  survived                                             name  \\\n",
      "0          1         1                    Allen, Miss. Elisabeth Walton   \n",
      "1          1         1                   Allison, Master. Hudson Trevor   \n",
      "2          1         0                     Allison, Miss. Helen Loraine   \n",
      "3          1         0             Allison, Mr. Hudson Joshua Creighton   \n",
      "4          1         0  Allison, Mrs. Hudson J C (Bessie Waldo Daniels)   \n",
      "...      ...       ...                                              ...   \n",
      "1304       3         0                             Zabour, Miss. Hileni   \n",
      "1305       3         0                            Zabour, Miss. Thamine   \n",
      "1306       3         0                        Zakarian, Mr. Mapriededer   \n",
      "1307       3         0                              Zakarian, Mr. Ortin   \n",
      "1308       3         0                               Zimmerman, Mr. Leo   \n",
      "\n",
      "         sex     age  sibsp  parch  ticket      fare    cabin embarked boat  \\\n",
      "0     female      29      0      0   24160  211.3375       B5        S    2   \n",
      "1       male  0.9167      1      2  113781    151.55  C22 C26        S   11   \n",
      "2     female       2      1      2  113781    151.55  C22 C26        S    ?   \n",
      "3       male      30      1      2  113781    151.55  C22 C26        S    ?   \n",
      "4     female      25      1      2  113781    151.55  C22 C26        S    ?   \n",
      "...      ...     ...    ...    ...     ...       ...      ...      ...  ...   \n",
      "1304  female    14.5      1      0    2665   14.4542        ?        C    ?   \n",
      "1305  female       ?      1      0    2665   14.4542        ?        C    ?   \n",
      "1306    male    26.5      0      0    2656     7.225        ?        C    ?   \n",
      "1307    male      27      0      0    2670     7.225        ?        C    ?   \n",
      "1308    male      29      0      0  315082     7.875        ?        S    ?   \n",
      "\n",
      "     body                        home.dest  \n",
      "0       ?                     St Louis, MO  \n",
      "1       ?  Montreal, PQ / Chesterville, ON  \n",
      "2       ?  Montreal, PQ / Chesterville, ON  \n",
      "3     135  Montreal, PQ / Chesterville, ON  \n",
      "4       ?  Montreal, PQ / Chesterville, ON  \n",
      "...   ...                              ...  \n",
      "1304  328                                ?  \n",
      "1305    ?                                ?  \n",
      "1306  304                                ?  \n",
      "1307    ?                                ?  \n",
      "1308    ?                                ?  \n",
      "\n",
      "[1309 rows x 14 columns]\n"
     ]
    }
   ],
   "source": [
    "import pandas as pd\n",
    "\n",
    "data = pd.read_csv(\"http://homepages.cs.ncl.ac.uk/stephen.mcgough/data/titanic.csv\")\n",
    "\n",
    "print(data)"
   ]
  },
  {
   "cell_type": "markdown",
   "metadata": {
    "id": "dyYr83VXZ4rZ"
   },
   "source": [
    "## What are the different features\n",
    "\n",
    "We can list the features using the list command\n",
    "\n",
    "The features are:\n",
    "\n",
    "| feature | description |\n",
    "|-----|------|\n",
    "| pclass | The class the passenger was travelling in |\n",
    "| survived | Whether the passenger survived or not |\n",
    "| name | Name of the passenger |\n",
    "| sex | Gender of the passenger |\n",
    "| age | Age of the passenger |\n",
    "| sibsp | Number of siblings or spouses onboard |\n",
    "| parch | Number of parents or children onboard |\n",
    "| ticket | Ticket number |\n",
    "| fare | How much they payed for the ticket |\n",
    "| cabin | Cabbin number |\n",
    "| embarked | Where they embarked from (C = Cherbourg; Q = Queenstown; S = Southampton) |\n",
    "| boat | Lifeboat they got onto |\n",
    "| body | Unknown |\n",
    "| home.dest | Where they were eventually travelling to |\n"
   ]
  },
  {
   "cell_type": "code",
   "execution_count": 2,
   "metadata": {
    "colab": {
     "base_uri": "https://localhost:8080/"
    },
    "id": "xgJdO3KO1D9u",
    "outputId": "440a8979-a3b9-469d-c31f-4e4e8d79b04f"
   },
   "outputs": [
    {
     "data": {
      "text/plain": [
       "['pclass',\n",
       " 'survived',\n",
       " 'name',\n",
       " 'sex',\n",
       " 'age',\n",
       " 'sibsp',\n",
       " 'parch',\n",
       " 'ticket',\n",
       " 'fare',\n",
       " 'cabin',\n",
       " 'embarked',\n",
       " 'boat',\n",
       " 'body',\n",
       " 'home.dest']"
      ]
     },
     "execution_count": 2,
     "metadata": {},
     "output_type": "execute_result"
    }
   ],
   "source": [
    "list(data)"
   ]
  },
  {
   "cell_type": "markdown",
   "metadata": {
    "id": "LdpteSbKb-aG"
   },
   "source": [
    "We now need to look at each of the features and decide which ones to keep and which ones to delete. You can use the value_counts() method to see how many unique values there are. Below is the one for 'age'.\n",
    "\n",
    "## Exercise\n",
    "Try each of the different features and see how many unique values there are and how much missing data there is (recorded here with '?')."
   ]
  },
  {
   "cell_type": "markdown",
   "metadata": {
    "id": "1AVscKNJiCKK"
   },
   "source": [
    "Just replace 'age' in the following with each of the features listed above."
   ]
  },
  {
   "cell_type": "code",
   "execution_count": 4,
   "metadata": {
    "colab": {
     "base_uri": "https://localhost:8080/"
    },
    "id": "Dit5xmp623xa",
    "outputId": "bf422975-5447-4303-94a9-b4fc44c37aac"
   },
   "outputs": [
    {
     "data": {
      "text/plain": [
       "?         263\n",
       "24         47\n",
       "22         43\n",
       "21         41\n",
       "30         40\n",
       "         ... \n",
       "66          1\n",
       "0.6667      1\n",
       "76          1\n",
       "67          1\n",
       "26.5        1\n",
       "Name: age, Length: 99, dtype: int64"
      ]
     },
     "execution_count": 4,
     "metadata": {},
     "output_type": "execute_result"
    }
   ],
   "source": [
    "data['age'].value_counts()"
   ]
  },
  {
   "cell_type": "markdown",
   "metadata": {
    "id": "qWRqYvwDcj4Q"
   },
   "source": [
    "Removing features that either have unique values for all or too much missing data.\n",
    "\n",
    "We're going to remove the features 'name' and 'ticket' as almost all passengers have a unique name/ticket - so this is unlikely to be of help.\n",
    "\n",
    "We're going to remove 'cabin', 'boat', 'body' and 'home.dest' as most of these values are missing.\n",
    "\n",
    "To remove a feature we drop the appropriate column from the pandas dataframe."
   ]
  },
  {
   "cell_type": "code",
   "execution_count": 5,
   "metadata": {
    "id": "LVQmJ3JS1awu"
   },
   "outputs": [],
   "source": [
    "dataClean = data.drop(columns=['name', 'cabin', 'ticket', 'boat', 'body', 'home.dest'])"
   ]
  },
  {
   "cell_type": "markdown",
   "metadata": {
    "id": "WumHbNZ2d0pp"
   },
   "source": [
    "We had two passengers who don't have a record of where they embarked from. We need to set a value for these - let's assume it is Southampton (S). We can come back to this later and try the other options to see if they give us better results."
   ]
  },
  {
   "cell_type": "code",
   "execution_count": 6,
   "metadata": {
    "id": "wgI6U-9R3_aK"
   },
   "outputs": [],
   "source": [
    "dataClean['embarked'].replace(['?'], ['S'], inplace=True)"
   ]
  },
  {
   "cell_type": "markdown",
   "metadata": {
    "id": "XwsipFHweW7i"
   },
   "source": [
    "There are a number of passengers missing an age. For now let's assume that they have the median age of all the other passangers. We can again come back to this later and try other estimates."
   ]
  },
  {
   "cell_type": "code",
   "execution_count": 7,
   "metadata": {
    "id": "_RCAjfd1-33-"
   },
   "outputs": [],
   "source": [
    "withoutMissingAge = dataClean.drop(dataClean[dataClean.age=='?'].index)\n",
    "medianAge = withoutMissingAge['age'].median()\n",
    "dataClean['age'].replace(['?'], [medianAge], inplace=True)"
   ]
  },
  {
   "cell_type": "markdown",
   "metadata": {
    "id": "DvGea8zFe0Cw"
   },
   "source": [
    "In the same way there are a number of passangers who don't have a fare value for their travels. We'll again assume that the median is a good estimate. We can come back later and try other estimates.\n",
    "\n",
    "## Exercise\n",
    "Using the example of replacing missing ages above replace the missing fares with the median value."
   ]
  },
  {
   "cell_type": "code",
   "execution_count": 8,
   "metadata": {
    "id": "0EBHi5fBB4py"
   },
   "outputs": [],
   "source": [
    "withoutMissingFare = dataClean.drop(dataClean[dataClean.fare=='?'].index) #Delete\n",
    "medianFare = withoutMissingFare['fare'].median() #Delete\n",
    "dataClean['fare'].replace(['?'], [medianFare], inplace=True) #Delete"
   ]
  },
  {
   "cell_type": "markdown",
   "metadata": {
    "id": "JBhDc8kpfR4V"
   },
   "source": [
    "The data should now be clean. We should look at all of the remaining features to check that there are no more missing values.\n",
    "\n",
    "## Exercise\n",
    "Check each of the features for missing values. You can do this using values_counts()."
   ]
  },
  {
   "cell_type": "markdown",
   "metadata": {
    "id": "7IXD2aHdiVVl"
   },
   "source": [
    "Again - replace 'age' with each of the features"
   ]
  },
  {
   "cell_type": "code",
   "execution_count": 9,
   "metadata": {
    "colab": {
     "base_uri": "https://localhost:8080/"
    },
    "id": "pV9QaE6FDCQS",
    "outputId": "6005e2aa-a03b-4018-8be5-8d27bc1bfff6"
   },
   "outputs": [
    {
     "data": {
      "text/plain": [
       "28.0      263\n",
       "24         47\n",
       "22         43\n",
       "21         41\n",
       "30         40\n",
       "         ... \n",
       "66          1\n",
       "0.6667      1\n",
       "76          1\n",
       "67          1\n",
       "26.5        1\n",
       "Name: age, Length: 99, dtype: int64"
      ]
     },
     "execution_count": 9,
     "metadata": {},
     "output_type": "execute_result"
    }
   ],
   "source": [
    "dataClean['age'].value_counts()"
   ]
  },
  {
   "cell_type": "markdown",
   "metadata": {
    "id": "G_6XCv_FfnX1"
   },
   "source": [
    "The feature 'sex' is a catagorical feature and needs to be converted into a One Hot Encoded set of features. First we use get_dummies() to create a One Hot Encoded version of the feature. But this looses all the other features so we need to join it back to the original data and delete the original feature."
   ]
  },
  {
   "cell_type": "code",
   "execution_count": 10,
   "metadata": {
    "id": "QWC_TXwmG1cC"
   },
   "outputs": [],
   "source": [
    "sexOHE = pd.get_dummies(dataClean['sex'], prefix='sex') # prefix is the text to start the new feature names with. The rest of the \n",
    "                                                        # feature name will be the catagorical value. So in this case we get\n",
    "                                                        # sex_female or sex_male\n",
    "dataClean = dataClean.join(sexOHE)\n",
    "dataClean = dataClean.drop(columns=['sex'])"
   ]
  },
  {
   "cell_type": "markdown",
   "metadata": {
    "id": "dmYefNtogzao"
   },
   "source": [
    "We need to do the same for the other catagorical feature - embarked. \n",
    "\n",
    "## Exercise\n",
    "Produce a One Hot encoding for embarked in the same way as sex was done above."
   ]
  },
  {
   "cell_type": "code",
   "execution_count": 11,
   "metadata": {
    "id": "WJSFMe9hIniU"
   },
   "outputs": [],
   "source": [
    "embarkedOHE = pd.get_dummies(dataClean['embarked'], prefix='embarked') # Delete\n",
    "dataClean = dataClean.join(embarkedOHE) # Delete\n",
    "dataClean = dataClean.drop(columns=['embarked']) # Delete"
   ]
  },
  {
   "cell_type": "markdown",
   "metadata": {
    "id": "4913PsHhhL0g"
   },
   "source": [
    "## Producing the X and y data\n",
    "\n",
    "The X data is all of the features without the variable we want to predict and the y data is just the variable we want to predict. \n",
    "\n",
    "We can remove the variable we want to predict (survived) from the data to produce X.\n",
    "\n",
    "We can keep just the variable we want to predict using filter."
   ]
  },
  {
   "cell_type": "code",
   "execution_count": 12,
   "metadata": {
    "id": "r0e_pPSSEQSa"
   },
   "outputs": [],
   "source": [
    "X = dataClean.drop(columns=['survived'])\n",
    "y = dataClean.filter(['survived']).values.ravel() # we need a 1D array for y - hence the need for values.ravel() to reshape the data "
   ]
  },
  {
   "cell_type": "markdown",
   "metadata": {
    "id": "HK4KjJ8_iRZQ"
   },
   "source": [
    "## Split the data\n",
    "\n",
    "We can now split the data into training and test data."
   ]
  },
  {
   "cell_type": "code",
   "execution_count": 13,
   "metadata": {
    "id": "Z0w8VRt5E1Uo"
   },
   "outputs": [],
   "source": [
    "from sklearn.model_selection import train_test_split\n",
    "\n",
    "X_train, X_test, y_train, y_test = train_test_split(X, y, test_size=0.20)"
   ]
  },
  {
   "cell_type": "markdown",
   "metadata": {
    "id": "ccfCEDiWi--n"
   },
   "source": [
    "# Now the machine learning\n",
    "\n",
    "sklearn is really good in the sense that all of the machine learning processes work in prety much the same way:\n",
    "\n",
    "```\n",
    "# import the appropriate classifier\n",
    "from sklearn.linear_model import LogisticRegression\n",
    "\n",
    "# create an instance of that classifier\n",
    "logistic = LogisticRegression()\n",
    "\n",
    "# Train it on our data\n",
    "logistic.fit(X_train, y_train)\n",
    "```\n",
    "\n",
    "So we just need to change sklearn.linear_model.LogisticRegression to sklearn.svm.SVC. Then change the instance you create to the correct classifier.\n",
    "\n",
    "## Exercises\n",
    "1. Create a Support Vector Classifer for the titanic data.\n",
    "2. For your classifier look at the accuracy, precision, recall, F1 and confusion matrix.\n",
    "3. Look at changing the C value and the kernel for SVC to see if you can improve the results."
   ]
  },
  {
   "cell_type": "markdown",
   "metadata": {
    "id": "cqdu2kpimKwA"
   },
   "source": [
    "# Write your code from here"
   ]
  },
  {
   "cell_type": "code",
   "execution_count": 19,
   "metadata": {
    "colab": {
     "base_uri": "https://localhost:8080/",
     "height": 381
    },
    "id": "CVIM9oP5FFHu",
    "outputId": "11673cce-03ef-48dc-ee70-1c5b98fdb914"
   },
   "outputs": [
    {
     "name": "stdout",
     "output_type": "stream",
     "text": [
      "Accuracy(SVC) =  0.6679389312977099\n",
      "Precision =  0.6521739130434783\n",
      "Recall =  0.297029702970297\n",
      "f1 =  0.4081632653061224\n",
      "[[145  16]\n",
      " [ 71  30]]\n"
     ]
    },
    {
     "data": {
      "image/png": "[encoded data removed]",
      "text/plain": [
       "<Figure size 432x288 with 2 Axes>"
      ]
     },
     "metadata": {
      "needs_background": "light"
     },
     "output_type": "display_data"
    }
   ],
   "source": [
    "from sklearn.svm import SVC #Delete\n",
    "from sklearn.metrics import precision_score\n",
    "from sklearn.metrics import recall_score\n",
    "from sklearn.metrics import f1_score\n",
    "from sklearn.metrics import confusion_matrix, ConfusionMatrixDisplay\n",
    "import matplotlib.pyplot as plt\n",
    "\n",
    "svc = SVC() #Delete\n",
    "\n",
    "svc.fit(X_train, y_train) #Delete\n",
    "\n",
    "print('Accuracy(SVC) = ', svc.score(X_test, y_test)) #Delete\n",
    "\n",
    "# Predict the results:\n",
    "pred_test = svc.predict(X_test)\n",
    "\n",
    "print('Precision = ', precision_score(y_test, pred_test))\n",
    "\n",
    "print('Recall = ', recall_score(y_test, pred_test))\n",
    "\n",
    "print('f1 = ', f1_score(y_test, pred_test))\n",
    "\n",
    "# Produce the confusion matrix\n",
    "cm = confusion_matrix(y_test, pred_test)\n",
    "print(cm)\n",
    "\n",
    "# The Confusion matrix as text isn't easy to read - so let's make into a figure\n",
    "display = ConfusionMatrixDisplay(confusion_matrix=cm, display_labels=svc.classes_)\n",
    "display.plot()\n",
    "plt.show()"
   ]
  },
  {
   "cell_type": "markdown",
   "metadata": {
    "id": "K3tQYPtUkc4g"
   },
   "source": [
    "To make changing C and kernel easier I've written a function to perform the SVC:"
   ]
  },
  {
   "cell_type": "code",
   "execution_count": 20,
   "metadata": {
    "id": "nhcQMOqmkjni"
   },
   "outputs": [],
   "source": [
    "def optimiseSVC(X_train, y_train, X_test, y_test, Cval=1.0, kernelVal = 'rbf'):\n",
    "  svc = SVC(C=Cval, kernel=kernelVal)\n",
    "  svc.fit(X_train, y_train) #Delete\n",
    "  print('Accuracy(SVC) = ', svc.score(X_test, y_test)) #Delete\n",
    "  # Predict the results:\n",
    "  pred_test = svc.predict(X_test)\n",
    "  print('Precision = ', precision_score(y_test, pred_test))\n",
    "  print('Recall = ', recall_score(y_test, pred_test))\n",
    "  print('f1 = ', f1_score(y_test, pred_test))\n",
    "  # Produce the confusion matrix\n",
    "  cm = confusion_matrix(y_test, pred_test)\n",
    "  print(cm)\n",
    "  # The Confusion matrix as text isn't easy to read - so let's make into a figure\n",
    "  display = ConfusionMatrixDisplay(confusion_matrix=cm, display_labels=svc.classes_)\n",
    "  display.plot()\n",
    "  plt.show() "
   ]
  },
  {
   "cell_type": "markdown",
   "metadata": {
    "id": "7AnKBH56jE8i"
   },
   "source": [
    "We can now vary C and kernel to see what happens.\n",
    "\n",
    "Valid C = positive numbers \n",
    "\n",
    "Valid kernels = ‘linear’, ‘poly’, ‘rbf’, ‘sigmoid’\n",
    "\n",
    "There's also ‘precomputed’ and callable - but these require you to provide your own matrix."
   ]
  },
  {
   "cell_type": "code",
   "execution_count": 28,
   "metadata": {
    "colab": {
     "base_uri": "https://localhost:8080/",
     "height": 384
    },
    "id": "C2k1DWhXl3-2",
    "outputId": "08802059-7d7a-4aa8-afbc-9bbf8cad1f27"
   },
   "outputs": [
    {
     "name": "stdout",
     "output_type": "stream",
     "text": [
      "Accuracy(SVC) =  0.6526717557251909\n",
      "Precision =  1.0\n",
      "Recall =  0.09900990099009901\n",
      "f1 =  0.18018018018018017\n",
      "[[161   0]\n",
      " [ 91  10]]\n"
     ]
    },
    {
     "data": {
      "image/png": "[encoded data removed]",
      "text/plain": [
       "<Figure size 432x288 with 2 Axes>"
      ]
     },
     "metadata": {
      "needs_background": "light"
     },
     "output_type": "display_data"
    }
   ],
   "source": [
    "optimiseSVC(X_train, y_train, X_test, y_test, 0.9, 'poly')"
   ]
  },
  {
   "cell_type": "markdown",
   "metadata": {
    "id": "tIecQTrIm4FO"
   },
   "source": [
    "You can make a table of results and see which is best."
   ]
  }
 ],
 "metadata": {
  "colab": {
   "provenance": []
  },
  "kernelspec": {
   "display_name": "Python 3",
   "language": "python",
   "name": "python3"
  },
  "language_info": {
   "codemirror_mode": {
    "name": "ipython",
    "version": 3
   },
   "file_extension": ".py",
   "mimetype": "text/x-python",
   "name": "python",
   "nbconvert_exporter": "python",
   "pygments_lexer": "ipython3",
   "version": "3.6.5"
  }
 },
 "nbformat": 4,
 "nbformat_minor": 1
}

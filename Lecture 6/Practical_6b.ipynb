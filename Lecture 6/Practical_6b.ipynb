{
 "cells": [
  {
   "cell_type": "markdown",
   "metadata": {
    "id": "HX-XYYbcYa0r"
   },
   "source": [
    "# Practical 6b Regression using SVM\n",
    "\n",
    "Again we're going to read in a file from a URL.\n",
    "\n",
    "Once you've done this you will need to process the data so that missing values are removed or replaced with sensible values. \n",
    "\n",
    "Then finally we can get down to the machine learning. The way you use SVM is very similar to what you did with Linear Regression - so we don't need to give you all the details for that part. You can just look back at that.\n",
    "\n",
    "The data: This is a set of results from an experiment where the number of initial bacteria, levels of CO2 light and sucrose excretion were varied. Four values can be predicted from this where the four values define a growth-rate curve for the bacteria."
   ]
  },
  {
   "cell_type": "markdown",
   "metadata": {
    "id": "cuVD44ytZh5t"
   },
   "source": [
    "## Reading in the data\n",
    "\n",
    "Pandas nicely provides you with a method to read in data from a CSV file. The file can either be on your local hard disk or at a URL.\n",
    "\n",
    "Once you've read in the data the first thing to do is to have a quick look at it - print it out."
   ]
  },
  {
   "cell_type": "code",
   "execution_count": null,
   "metadata": {
    "id": "BbBZUlzy0gNa"
   },
   "outputs": [],
   "source": [
    "import pandas as pd\n",
    "\n",
    "data = pd.read_csv(\"http://homepages.cs.ncl.ac.uk/stephen.mcgough/data/fitting-results.csv\")\n",
    "\n",
    "print(data)"
   ]
  },
  {
   "cell_type": "markdown",
   "metadata": {
    "id": "dyYr83VXZ4rZ"
   },
   "source": [
    "## What are the different variables\n",
    "\n",
    "We can list the variables using the list command\n",
    "\n",
    "This data represents nearly 20,000 experiments when growing bacteria. There are four variables you can predict from this data: 'a', 'mu', 'tau' and 'a0'. \n",
    "\n",
    "The variables are:\n",
    "\n",
    "| variable | description |\n",
    "|-----|------|\n",
    "| n_cyanos | The number of Cyanobacteria available at the start |\n",
    "| co2 | The amount of CO2 available |\n",
    "| light | The amount of light available |\n",
    "| SucRatio | How good the bacteria is at producing sucrose |\n",
    "| Nsample | Experiment number |\n",
    "| a | Maximum number of bacteria seen |\n",
    "| mu | Growth rate of bacteria |\n",
    "| tau | Time delay before bacteria starts growing |\n",
    "| a0 | Initial level of bacteria |"
   ]
  },
  {
   "cell_type": "code",
   "execution_count": null,
   "metadata": {
    "id": "xgJdO3KO1D9u"
   },
   "outputs": [],
   "source": [
    "list(data)"
   ]
  },
  {
   "cell_type": "markdown",
   "metadata": {
    "id": "LdpteSbKb-aG"
   },
   "source": [
    "In this case there is no missing data. But you should still look at the data to see what we have."
   ]
  },
  {
   "cell_type": "code",
   "execution_count": null,
   "metadata": {
    "id": "Dit5xmp623xa"
   },
   "outputs": [],
   "source": [
    "data['a'].value_counts()"
   ]
  },
  {
   "cell_type": "markdown",
   "metadata": {
    "id": "4913PsHhhL0g"
   },
   "source": [
    "## Producing the X and y data\n",
    "\n",
    "The X data is all of the features without the variables we want to predict and the y data is just the variables we want to predict. \n",
    "\n",
    "We can remove Nsample here too as it has no value.\n",
    "\n",
    "We can remove the variables we want to predict (a, mu, tau, a0) from the data to produce X.\n",
    "\n",
    "We can keep just the variable we want to predict using filter. As there are four variables here we'll keep them all for now and separate them later.\n",
    "\n",
    "## Exercise\n",
    "1. Create X to be all columns apart from 'a', 'mu', 'tau', 'a0' and 'Nsamples'.\n",
    "2. Create y to be just the columns 'a', 'mu', 'tau' and 'a0'."
   ]
  },
  {
   "cell_type": "code",
   "execution_count": 4,
   "metadata": {
    "id": "r0e_pPSSEQSa"
   },
   "outputs": [],
   "source": [
    "X = \n",
    "y = "
   ]
  },
  {
   "cell_type": "markdown",
   "metadata": {
    "id": "HK4KjJ8_iRZQ"
   },
   "source": [
    "## Split the data\n",
    "\n",
    "We can now split the data into training and test data."
   ]
  },
  {
   "cell_type": "code",
   "execution_count": 5,
   "metadata": {
    "id": "Z0w8VRt5E1Uo"
   },
   "outputs": [],
   "source": [
    "from sklearn.model_selection import train_test_split\n",
    "\n",
    "X_train, X_test, y_train, y_test = train_test_split(X, y, test_size=0.20)"
   ]
  },
  {
   "cell_type": "markdown",
   "metadata": {
    "id": "YgSi2XKrymYZ"
   },
   "source": [
    "We still have four features in y_train and y_test. We need to split these into four separate dataFrames so we can train a regressor on each of them."
   ]
  },
  {
   "cell_type": "code",
   "execution_count": 6,
   "metadata": {
    "id": "p-Ul0Qepy3RH"
   },
   "outputs": [],
   "source": [
    "y_train_a = y_train.filter('a').values.ravel()\n",
    "y_test_a = y_test.filter('a')"
   ]
  },
  {
   "cell_type": "markdown",
   "metadata": {
    "id": "Qcc_LTCczEFf"
   },
   "source": [
    "## Exercise\n",
    "The code above produces the separate data for 'a'. Produce the separate data for 'mu', 'tau' and 'a0'."
   ]
  },
  {
   "cell_type": "code",
   "execution_count": null,
   "metadata": {
    "id": "qNmD6LGPlaQ3"
   },
   "outputs": [],
   "source": []
  },
  {
   "cell_type": "markdown",
   "metadata": {
    "id": "ccfCEDiWi--n"
   },
   "source": [
    "# Now the machine learning\n",
    "\n",
    "sklearn is really good in the sense that all of the machine learning processes work in prety much the same way:\n",
    "\n",
    "```\n",
    "# import the appropriate regressor\n",
    "from sklearn.linear_model import LinearRegression\n",
    "\n",
    "# create an instance of that regressor\n",
    "lr = LinearRegression()\n",
    "\n",
    "# Train it on our data\n",
    "lr.fit(X_train, y_train)\n",
    "```\n",
    "\n",
    "So we just need to change sklearn.linear_model.LinearRegression to sklearn.svm.SVR. Then change the instance you create to the correct regressor.\n",
    "\n",
    "## Exercises\n",
    "1. Create a Support Vector Regressor for this data. You'll need to produce one for each of 'a', 'mu', 'tau' and 'a0'.\n",
    "3. For your Regressor look at the R^2 value. You can also plot predicted value against actual value. This should be close to a diagonal line from the bottom left to the top right.\n",
    "3. Look at changing the C value and the kernel for SVR to see if you can improve the results."
   ]
  },
  {
   "cell_type": "markdown",
   "metadata": {
    "id": "cqdu2kpimKwA"
   },
   "source": [
    "# Write your code from here"
   ]
  },
  {
   "cell_type": "code",
   "execution_count": null,
   "metadata": {
    "id": "CVIM9oP5FFHu"
   },
   "outputs": [],
   "source": []
  }
 ],
 "metadata": {
  "colab": {
   "collapsed_sections": [],
   "provenance": []
  },
  "kernelspec": {
   "display_name": "Python 3",
   "language": "python",
   "name": "python3"
  },
  "language_info": {
   "codemirror_mode": {
    "name": "ipython",
    "version": 3
   },
   "file_extension": ".py",
   "mimetype": "text/x-python",
   "name": "python",
   "nbconvert_exporter": "python",
   "pygments_lexer": "ipython3",
   "version": "3.6.5"
  }
 },
 "nbformat": 4,
 "nbformat_minor": 1
}

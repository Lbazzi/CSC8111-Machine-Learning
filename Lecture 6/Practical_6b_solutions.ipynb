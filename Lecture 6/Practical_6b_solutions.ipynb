{
 "cells": [
  {
   "cell_type": "markdown",
   "metadata": {
    "id": "HX-XYYbcYa0r"
   },
   "source": [
    "# Practical 6b Regression using SVM\n",
    "\n",
    "Again we're going to read in a file from a URL.\n",
    "\n",
    "Once you've done this you will need to process the data so that missing values are removed or replaced with sensible values. \n",
    "\n",
    "Then finally we can get down to the machine learning. The way you use SVM is very similar to what you did with Linear Regression - so we don't need to give you all the details for that part. You can just look back at that.\n",
    "\n",
    "The data: This is a set of results from an experiment where the number of initial bacteria, levels of CO2 light and sucrose excretion were varied. Four values can be predicted from this where the four values define a growth-rate curve for the bacteria."
   ]
  },
  {
   "cell_type": "markdown",
   "metadata": {
    "id": "cuVD44ytZh5t"
   },
   "source": [
    "## Reading in the data\n",
    "\n",
    "Pandas nicely provides you with a method to read in data from a CSV file. The file can either be on your local hard disk or at a URL.\n",
    "\n",
    "Once you've read in the data the first thing to do is to have a quick look at it - print it out."
   ]
  },
  {
   "cell_type": "code",
   "execution_count": 1,
   "metadata": {
    "colab": {
     "base_uri": "https://localhost:8080/"
    },
    "id": "BbBZUlzy0gNa",
    "outputId": "b2def68a-2b88-4055-cd5c-270ff13726b6"
   },
   "outputs": [
    {
     "name": "stdout",
     "output_type": "stream",
     "text": [
      "       n_cyanos        co2     light  SucRatio  Nsample          a         mu  \\\n",
      "0           262  73.578860  0.367894  0.451505    13123   5.033993   5.483011   \n",
      "1           610  74.582194  0.481606  0.969900    12474   1.018406   1.830727   \n",
      "2           118  33.111037  0.625418  0.909699     8867   2.569159   3.330662   \n",
      "3           159   8.027676  0.575251  0.137124    16494   1.837341   3.371570   \n",
      "4           957  38.796599  0.939799  0.234114    10267   0.999268   2.059303   \n",
      "...         ...        ...       ...       ...      ...        ...        ...   \n",
      "19987       676  93.645548  0.270904  0.200669    12554   4.095631   5.133052   \n",
      "19988        52  78.261087  0.331104  0.698997    10827  18.693225  14.312423   \n",
      "19989       676  46.823274  0.936455  0.113712     9559   2.388540   3.774914   \n",
      "19990        92  43.813271  0.886288  0.046823    17422  22.043032  19.048733   \n",
      "19991       653   9.031010  0.050168  0.729097    18301   0.181946   2.201299   \n",
      "\n",
      "            tau        a0  \n",
      "0      0.552466  1.000000  \n",
      "1      0.156458  1.000000  \n",
      "2      0.412541  1.000000  \n",
      "3      0.260798  1.000000  \n",
      "4      0.098619  1.000000  \n",
      "...         ...       ...  \n",
      "19987  0.456271  1.000000  \n",
      "19988  1.225034  1.000000  \n",
      "19989  0.299898  1.000000  \n",
      "19990  1.144234  1.000000  \n",
      "19991  0.041841  0.991104  \n",
      "\n",
      "[19992 rows x 9 columns]\n"
     ]
    }
   ],
   "source": [
    "import pandas as pd\n",
    "\n",
    "data = pd.read_csv(\"http://homepages.cs.ncl.ac.uk/stephen.mcgough/data/fitting-results.csv\")\n",
    "\n",
    "print(data)"
   ]
  },
  {
   "cell_type": "markdown",
   "metadata": {
    "id": "dyYr83VXZ4rZ"
   },
   "source": [
    "## What are the different variables\n",
    "\n",
    "We can list the variables using the list command\n",
    "\n",
    "This data represents nearly 20,000 experiments when growing bacteria. There are four variables you can predict from this data: 'a', 'mu', 'tau' and 'a0'. \n",
    "\n",
    "The variables are:\n",
    "\n",
    "| variable | description |\n",
    "|-----|------|\n",
    "| n_cyanos | The number of Cyanobacteria available at the start |\n",
    "| co2 | The amount of CO2 available |\n",
    "| light | The amount of light available |\n",
    "| SucRatio | How good the bacteria is at producing sucrose |\n",
    "| Nsample | Experiment number |\n",
    "| a | Maximum number of bacteria seen |\n",
    "| mu | Growth rate of bacteria |\n",
    "| tau | Time delay before bacteria starts growing |\n",
    "| a0 | Initial level of bacteria |"
   ]
  },
  {
   "cell_type": "code",
   "execution_count": 2,
   "metadata": {
    "colab": {
     "base_uri": "https://localhost:8080/"
    },
    "id": "xgJdO3KO1D9u",
    "outputId": "bd787d2e-97fe-41e2-a5fc-318fde0a474d"
   },
   "outputs": [
    {
     "data": {
      "text/plain": [
       "['n_cyanos', 'co2', 'light', 'SucRatio', 'Nsample', 'a', 'mu', 'tau', 'a0']"
      ]
     },
     "execution_count": 2,
     "metadata": {},
     "output_type": "execute_result"
    }
   ],
   "source": [
    "list(data)"
   ]
  },
  {
   "cell_type": "markdown",
   "metadata": {
    "id": "LdpteSbKb-aG"
   },
   "source": [
    "In this case there is no missing data. But you should still look at the data to see what we have."
   ]
  },
  {
   "cell_type": "code",
   "execution_count": 3,
   "metadata": {
    "colab": {
     "base_uri": "https://localhost:8080/"
    },
    "id": "Dit5xmp623xa",
    "outputId": "603ef9de-5e7f-4f9b-e255-a72a6bc85b61"
   },
   "outputs": [
    {
     "data": {
      "text/plain": [
       "0.000004    311\n",
       "0.008889      3\n",
       "0.004484      2\n",
       "0.009091      2\n",
       "0.004688      2\n",
       "           ... \n",
       "0.560069      1\n",
       "1.651303      1\n",
       "1.341338      1\n",
       "1.416024      1\n",
       "0.181946      1\n",
       "Name: a, Length: 19675, dtype: int64"
      ]
     },
     "execution_count": 3,
     "metadata": {},
     "output_type": "execute_result"
    }
   ],
   "source": [
    "data['a'].value_counts()"
   ]
  },
  {
   "cell_type": "markdown",
   "metadata": {
    "id": "4913PsHhhL0g"
   },
   "source": [
    "## Producing the X and y data\n",
    "\n",
    "The X data is all of the features without the variables we want to predict and the y data is just the variables we want to predict. \n",
    "\n",
    "We can remove Nsample here too as it has no value.\n",
    "\n",
    "We can remove the variables we want to predict (a, mu, tau, a0) from the data to produce X.\n",
    "\n",
    "We can keep just the variable we want to predict using filter. As there are four variables here we'll keep them all for now and separate them later.\n",
    "\n",
    "## Exercise\n",
    "1. Create X to be all columns apart from 'a', 'mu', 'tau', 'a0' and 'Nsamples'.\n",
    "2. Create y to be just the columns 'a', 'mu', 'tau' and 'a0'."
   ]
  },
  {
   "cell_type": "code",
   "execution_count": 4,
   "metadata": {
    "id": "r0e_pPSSEQSa"
   },
   "outputs": [],
   "source": [
    "X = data.drop(columns=['a', 'mu', 'tau', 'a0', 'Nsample']) #Delete\n",
    "y = data.filter(['a', 'mu', 'tau', 'a0']) #Delete"
   ]
  },
  {
   "cell_type": "markdown",
   "metadata": {
    "id": "HK4KjJ8_iRZQ"
   },
   "source": [
    "## Split the data\n",
    "\n",
    "We can now split the data into training and test data."
   ]
  },
  {
   "cell_type": "code",
   "execution_count": 5,
   "metadata": {
    "id": "Z0w8VRt5E1Uo"
   },
   "outputs": [],
   "source": [
    "from sklearn.model_selection import train_test_split\n",
    "\n",
    "X_train, X_test, y_train, y_test = train_test_split(X, y, test_size=0.20)"
   ]
  },
  {
   "cell_type": "markdown",
   "metadata": {
    "id": "YgSi2XKrymYZ"
   },
   "source": [
    "We still have four features in y_train and y_test. We need to split these into four separate dataFrames so we can train a regressor on each of them."
   ]
  },
  {
   "cell_type": "code",
   "execution_count": 6,
   "metadata": {
    "id": "p-Ul0Qepy3RH"
   },
   "outputs": [],
   "source": [
    "y_train_a = y_train.filter('a').values.ravel()\n",
    "y_test_a = y_test.filter('a')"
   ]
  },
  {
   "cell_type": "markdown",
   "metadata": {
    "id": "Qcc_LTCczEFf"
   },
   "source": [
    "## Exercise\n",
    "The code above produces the separate data for 'a'. Produce the separate data for 'mu', 'tau' and 'a0'."
   ]
  },
  {
   "cell_type": "markdown",
   "metadata": {
    "id": "f__X-Gpypml8"
   },
   "source": [
    "Note: Some people have reported an error on filter('mu'). If you get this error then use the 'formal' way of doing a filter:\n",
    "\n",
    "```\n",
    "y_train_mu = y_train.filter(items = ['mu']).values.ravel()\n",
    "```"
   ]
  },
  {
   "cell_type": "code",
   "execution_count": 7,
   "metadata": {
    "id": "2aXk26yenU9r"
   },
   "outputs": [],
   "source": [
    "y_train_mu = y_train.filter(items=['mu']).values.ravel()\n",
    "y_test_mu = y_test.filter(items=['mu'])\n",
    "\n",
    "y_train_tau = y_train.filter('tau').values.ravel()\n",
    "y_test_tau = y_test.filter('tau')\n",
    "\n",
    "y_train_a0 = y_train.filter('a0').values.ravel()\n",
    "y_test_a0 = y_test.filter('a0')"
   ]
  },
  {
   "cell_type": "markdown",
   "metadata": {
    "id": "ccfCEDiWi--n"
   },
   "source": [
    "# Now the machine learning\n",
    "\n",
    "sklearn is really good in the sense that all of the machine learning processes work in prety much the same way:\n",
    "\n",
    "```\n",
    "# import the appropriate regressor\n",
    "from sklearn.linear_model import LinearRegression\n",
    "\n",
    "# create an instance of that regressor\n",
    "lr = LinearRegression()\n",
    "\n",
    "# Train it on our data\n",
    "lr.fit(X_train, y_train)\n",
    "```\n",
    "\n",
    "So we just need to change sklearn.linear_model.LinearRegression to sklearn.svm.SVR. Then change the instance you create to the correct regressor.\n",
    "\n",
    "## Exercises\n",
    "1. Create a Support Vector Regressor for this data. You'll need to produce one for each of 'a', 'mu', 'tau' and 'a0'.\n",
    "3. For your Regressor look at the R^2 value. You can also plot predicted value against actual value. This should be close to a diagonal line from the bottom left to the top right.\n",
    "3. Look at changing the C value and the kernel for SVR to see if you can improve the results."
   ]
  },
  {
   "cell_type": "markdown",
   "metadata": {
    "id": "cqdu2kpimKwA"
   },
   "source": [
    "# Write your code from here"
   ]
  },
  {
   "cell_type": "code",
   "execution_count": 15,
   "metadata": {
    "colab": {
     "base_uri": "https://localhost:8080/",
     "height": 313
    },
    "id": "CVIM9oP5FFHu",
    "outputId": "66851827-0d9a-4b26-f499-8067e6fb4344"
   },
   "outputs": [
    {
     "name": "stdout",
     "output_type": "stream",
     "text": [
      "R^2(SVR_a) =  0.4118116704624487\n"
     ]
    },
    {
     "data": {
      "text/plain": [
       "Text(0, 0.5, 'Predicted A')"
      ]
     },
     "execution_count": 15,
     "metadata": {},
     "output_type": "execute_result"
    },
    {
     "data": {
      "image/png": "[encoded data removed]",
      "text/plain": [
       "<Figure size 432x288 with 1 Axes>"
      ]
     },
     "metadata": {
      "needs_background": "light"
     },
     "output_type": "display_data"
    }
   ],
   "source": [
    "from sklearn.svm import SVR #Delete\n",
    "import matplotlib.pyplot as plt\n",
    "\n",
    "svr_a = SVR() #Delete\n",
    "\n",
    "svr_a.fit(X_train, y_train_a) #Delete\n",
    "\n",
    "print('R^2(SVR_a) = ', svr_a.score(X_test, y_test_a)) #Delete\n",
    "\n",
    "# Let's plot\n",
    "y_pred_a  = svr_a.predict(X_test)\n",
    "plt.scatter(y_test_a,y_pred_a)\n",
    "plt.xlabel('Actual A')\n",
    "plt.ylabel('Predicted A')"
   ]
  },
  {
   "cell_type": "code",
   "execution_count": 17,
   "metadata": {
    "colab": {
     "base_uri": "https://localhost:8080/",
     "height": 313
    },
    "id": "7fCZ8e2M0smw",
    "outputId": "be01f9ac-ee88-46c4-ef32-eda0e215fb65"
   },
   "outputs": [
    {
     "name": "stdout",
     "output_type": "stream",
     "text": [
      "R^2(SVR_mu) =  0.4187844940647448\n"
     ]
    },
    {
     "data": {
      "text/plain": [
       "Text(0, 0.5, 'Predicted mu')"
      ]
     },
     "execution_count": 17,
     "metadata": {},
     "output_type": "execute_result"
    },
    {
     "data": {
      "image/png": "[encoded data removed]",
      "text/plain": [
       "<Figure size 432x288 with 1 Axes>"
      ]
     },
     "metadata": {
      "needs_background": "light"
     },
     "output_type": "display_data"
    }
   ],
   "source": [
    "svr_mu = SVR() #Delete\n",
    "\n",
    "svr_mu.fit(X_train, y_train_mu) #Delete\n",
    "\n",
    "print('R^2(SVR_mu) = ', svr_mu.score(X_test, y_test_mu)) #Delete\n",
    "\n",
    "# Let's plot\n",
    "y_pred_mu  = svr_mu.predict(X_test)\n",
    "plt.scatter(y_test_mu,y_pred_mu)\n",
    "plt.xlabel('Actual mu')\n",
    "plt.ylabel('Predicted mu')"
   ]
  },
  {
   "cell_type": "code",
   "execution_count": 19,
   "metadata": {
    "colab": {
     "base_uri": "https://localhost:8080/",
     "height": 313
    },
    "id": "ZWuicBr_2FPE",
    "outputId": "31204359-b7f7-4fc0-a5e7-2f3a8f8b47ff"
   },
   "outputs": [
    {
     "name": "stdout",
     "output_type": "stream",
     "text": [
      "R^2(SVR_tau) =  0.4118116704624487\n"
     ]
    },
    {
     "data": {
      "text/plain": [
       "Text(0, 0.5, 'Predicted tau')"
      ]
     },
     "execution_count": 19,
     "metadata": {},
     "output_type": "execute_result"
    },
    {
     "data": {
      "image/png": "[encoded data removed]",
      "text/plain": [
       "<Figure size 432x288 with 1 Axes>"
      ]
     },
     "metadata": {
      "needs_background": "light"
     },
     "output_type": "display_data"
    }
   ],
   "source": [
    "svr_tau = SVR() #Delete\n",
    "\n",
    "svr_tau.fit(X_train, y_train_tau) #Delete\n",
    "\n",
    "print('R^2(SVR_tau) = ', svr_tau.score(X_test, y_test_tau)) #Delete\n",
    "\n",
    "# Let's plot\n",
    "y_pred_tau = svr_tau.predict(X_test)\n",
    "plt.scatter(y_test_a,y_pred_a)\n",
    "plt.xlabel('Actual tau')\n",
    "plt.ylabel('Predicted tau')"
   ]
  },
  {
   "cell_type": "code",
   "execution_count": 20,
   "metadata": {
    "colab": {
     "base_uri": "https://localhost:8080/",
     "height": 313
    },
    "id": "9Teutp8k2X34",
    "outputId": "b3eda992-111a-414e-d3ec-0f2eb9a51a26"
   },
   "outputs": [
    {
     "name": "stdout",
     "output_type": "stream",
     "text": [
      "R^2(SVR_a0) =  0.4118116704624487\n"
     ]
    },
    {
     "data": {
      "text/plain": [
       "Text(0, 0.5, 'Predicted A0')"
      ]
     },
     "execution_count": 20,
     "metadata": {},
     "output_type": "execute_result"
    },
    {
     "data": {
      "image/png": "[encoded data removed]",
      "text/plain": [
       "<Figure size 432x288 with 1 Axes>"
      ]
     },
     "metadata": {
      "needs_background": "light"
     },
     "output_type": "display_data"
    }
   ],
   "source": [
    "svr_a0 = SVR() #Delete\n",
    "\n",
    "svr_a0.fit(X_train, y_train_a0) #Delete\n",
    "\n",
    "print('R^2(SVR_a0) = ', svr_a0.score(X_test, y_test_a0)) #Delete\n",
    "\n",
    "# Let's plot\n",
    "y_pred_a0  = svr_a0.predict(X_test)\n",
    "plt.scatter(y_test_a0,y_pred_a0)\n",
    "plt.xlabel('Actual A0')\n",
    "plt.ylabel('Predicted A0')"
   ]
  },
  {
   "cell_type": "markdown",
   "metadata": {
    "id": "yegk3ydf3Obe"
   },
   "source": [
    "Make these into a function so we can test C"
   ]
  },
  {
   "cell_type": "code",
   "execution_count": 12,
   "metadata": {
    "id": "C2cJD1mH3TSF"
   },
   "outputs": [],
   "source": [
    "def optimiseC(X_train, y_train_a, y_train_mu, y_train_tau, y_train_a0, y_test_a, y_test_mu, y_test_tau, y_test_a0, X_test, Cval, kernelK = 'rbf'):\n",
    "  svr_a = SVR(C=Cval, kernel=kernelK)\n",
    "  svr_a.fit(X_train, y_train_a)\n",
    "  print('R^2(SVR_a) = ', svr_a.score(X_test, y_test_a))\n",
    "\n",
    "  svr_mu = SVR(C=Cval, kernel=kernelK)\n",
    "  svr_mu.fit(X_train, y_train_mu)\n",
    "  print('R^2(SVR_mu) = ', svr_mu.score(X_test, y_test_mu))\n",
    "\n",
    "  svr_tau = SVR(C=Cval, kernel=kernelK)\n",
    "  svr_tau.fit(X_train, y_train_tau)\n",
    "  print('R^2(SVR_tau) = ', svr_tau.score(X_test, y_test_tau))\n",
    "\n",
    "  svr_a0 = SVR(C=Cval, kernel=kernelK)\n",
    "  svr_a0.fit(X_train, y_train_a0)\n",
    "  print('R^2(SVR_a0) = ', svr_a0.score(X_test, y_test_a0))"
   ]
  },
  {
   "cell_type": "markdown",
   "metadata": {
    "id": "UbchmMBL-UH3"
   },
   "source": [
    "kernel can take value of ‘linear’, ‘poly’, ‘rbf’, ‘sigmoid’"
   ]
  },
  {
   "cell_type": "code",
   "execution_count": 13,
   "metadata": {
    "colab": {
     "base_uri": "https://localhost:8080/"
    },
    "id": "U7APOTON4LBx",
    "outputId": "aae3ec47-5d47-4a67-f0d5-3c0280657041"
   },
   "outputs": [
    {
     "name": "stdout",
     "output_type": "stream",
     "text": [
      "R^2(SVR_a) =  0.6359911712202924\n",
      "R^2(SVR_mu) =  0.621543647390563\n",
      "R^2(SVR_tau) =  0.6359911712202924\n",
      "R^2(SVR_a0) =  0.6359911712202924\n"
     ]
    }
   ],
   "source": [
    "optimiseC(X_train, y_train_a, y_train_mu, y_train_tau, y_train_a0, y_test_a, y_test_mu, y_test_tau, y_test_a0, X_test, 64, 'rbf')"
   ]
  },
  {
   "cell_type": "markdown",
   "metadata": {
    "id": "ReACvWOUKdoy"
   },
   "source": [
    "Aside - If you try RandomForestRegressor on this data you get a much better result."
   ]
  },
  {
   "cell_type": "code",
   "execution_count": 39,
   "metadata": {
    "colab": {
     "base_uri": "https://localhost:8080/"
    },
    "id": "pu-EeXlj6tMj",
    "outputId": "c7cffafe-753b-4a21-a243-82bee94c3b46"
   },
   "outputs": [
    {
     "name": "stdout",
     "output_type": "stream",
     "text": [
      "MAE(a):  0.35526581278194524\n",
      "MSE(a):  4.319278567914744\n",
      "R^2:     0.9756075430376674\n"
     ]
    }
   ],
   "source": [
    "from sklearn.ensemble import RandomForestRegressor\n",
    "from sklearn.metrics import mean_absolute_error\n",
    "from sklearn.metrics import mean_squared_error\n",
    "\n",
    "rf_a = RandomForestRegressor()\n",
    "\n",
    "rf_a.fit(X_train, y_train_a)\n",
    "\n",
    "y_pred_a = rf_a.predict(X_test)\n",
    "print('MAE(a): ', mean_absolute_error(y_test_a, y_pred_a))\n",
    "print('MSE(a): ', mean_squared_error(y_test_a, y_pred_a))\n",
    "print('R^2:    ', rf_a.score(X_test, y_test_a))"
   ]
  }
 ],
 "metadata": {
  "colab": {
   "provenance": []
  },
  "kernelspec": {
   "display_name": "Python 3",
   "language": "python",
   "name": "python3"
  },
  "language_info": {
   "codemirror_mode": {
    "name": "ipython",
    "version": 3
   },
   "file_extension": ".py",
   "mimetype": "text/x-python",
   "name": "python",
   "nbconvert_exporter": "python",
   "pygments_lexer": "ipython3",
   "version": "3.6.5"
  }
 },
 "nbformat": 4,
 "nbformat_minor": 1
}
